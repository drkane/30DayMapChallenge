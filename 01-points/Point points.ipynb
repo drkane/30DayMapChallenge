{
 "cells": [
  {
   "cell_type": "code",
   "execution_count": 62,
   "metadata": {},
   "outputs": [],
   "source": [
    "import pandas as pd\n",
    "import geopandas as gpd\n",
    "from tqdm.notebook import tqdm\n",
    "from zipfile import ZipFile\n",
    "import io\n",
    "import OSGridConverter"
   ]
  },
  {
   "cell_type": "code",
   "execution_count": 17,
   "metadata": {},
   "outputs": [],
   "source": [
    "PLACE_NAMES = \"../big-data/opname_csv_gb.zip\"\n",
    "COLUMN_NAMES = \"DOC/OS_Open_Names_Header.csv\""
   ]
  },
  {
   "cell_type": "code",
   "execution_count": 33,
   "metadata": {},
   "outputs": [
    {
     "data": {
      "application/vnd.jupyter.widget-view+json": {
       "model_id": "55dcf7b6448b4cf795cd78e376ba8871",
       "version_major": 2,
       "version_minor": 0
      },
      "text/plain": [
       "HBox(children=(FloatProgress(value=0.0, max=822.0), HTML(value='')))"
      ]
     },
     "metadata": {},
     "output_type": "display_data"
    },
    {
     "name": "stderr",
     "output_type": "stream",
     "text": [
      "c:\\users\\drkan\\appdata\\local\\programs\\python\\python38\\lib\\site-packages\\IPython\\core\\interactiveshell.py:3062: DtypeWarning: Columns (33) have mixed types.Specify dtype option on import or set low_memory=False.\n",
      "  has_raised = await self.run_ast_nodes(code_ast.body, cell_name,\n",
      "c:\\users\\drkan\\appdata\\local\\programs\\python\\python38\\lib\\site-packages\\IPython\\core\\interactiveshell.py:3062: DtypeWarning: Columns (4,16,17,31,32,33) have mixed types.Specify dtype option on import or set low_memory=False.\n",
      "  has_raised = await self.run_ast_nodes(code_ast.body, cell_name,\n"
     ]
    },
    {
     "name": "stdout",
     "output_type": "stream",
     "text": [
      "\n"
     ]
    }
   ],
   "source": [
    "data = []\n",
    "with ZipFile(PLACE_NAMES) as z:\n",
    "    \n",
    "    with z.open(COLUMN_NAMES) as a:\n",
    "        headers = pd.read_csv(io.BytesIO(a.read()), header=None)\n",
    "        headers = headers.T[0].tolist()\n",
    "    \n",
    "    for f in tqdm(z.namelist()):\n",
    "        if not f.endswith(\".csv\") or not f.startswith(\"DATA/\"):\n",
    "            continue\n",
    "        with z.open(f) as a:\n",
    "            df = pd.read_csv(io.BytesIO(a.read()), header=None, names=headers)\n",
    "            df = df[df['NAME1'].fillna(\"\").str.contains(\"Point\") | df['NAME2'].fillna(\"\").str.contains(\"Point\")]\n",
    "            data.append(df)\n",
    "data = pd.concat(data)"
   ]
  },
  {
   "cell_type": "code",
   "execution_count": 55,
   "metadata": {},
   "outputs": [
    {
     "data": {
      "text/plain": [
       "-1.0670102467336122"
      ]
     },
     "execution_count": 55,
     "metadata": {},
     "output_type": "execute_result"
    }
   ],
   "source": [
    "g = OSGridConverter.OSGridReference(data.iloc[0]['GEOMETRY_X'], data.iloc[0]['GEOMETRY_Y']).toLatLong()\n",
    "g.latitude\n",
    "g.longitude"
   ]
  },
  {
   "cell_type": "code",
   "execution_count": 58,
   "metadata": {},
   "outputs": [],
   "source": [
    "latlongs = data.apply(\n",
    "    lambda x: OSGridConverter.OSGridReference(x['GEOMETRY_X'], x['GEOMETRY_Y']).toLatLong(),\n",
    "    axis=1\n",
    ")"
   ]
  },
  {
   "cell_type": "code",
   "execution_count": 60,
   "metadata": {},
   "outputs": [],
   "source": [
    "data.loc[:, \"LATITUDE\"] = latlongs.apply(lambda x: x.latitude)\n",
    "data.loc[:, \"LONGITUDE\"] = latlongs.apply(lambda x: x.longitude)"
   ]
  },
  {
   "cell_type": "code",
   "execution_count": 61,
   "metadata": {},
   "outputs": [
    {
     "data": {
      "text/html": [
       "<div>\n",
       "<style scoped>\n",
       "    .dataframe tbody tr th:only-of-type {\n",
       "        vertical-align: middle;\n",
       "    }\n",
       "\n",
       "    .dataframe tbody tr th {\n",
       "        vertical-align: top;\n",
       "    }\n",
       "\n",
       "    .dataframe thead th {\n",
       "        text-align: right;\n",
       "    }\n",
       "</style>\n",
       "<table border=\"1\" class=\"dataframe\">\n",
       "  <thead>\n",
       "    <tr style=\"text-align: right;\">\n",
       "      <th></th>\n",
       "      <th>NAME1</th>\n",
       "      <th>LATITUDE</th>\n",
       "      <th>LONGITUDE</th>\n",
       "    </tr>\n",
       "  </thead>\n",
       "  <tbody>\n",
       "    <tr>\n",
       "      <th>54</th>\n",
       "      <td>Point of Hellia</td>\n",
       "      <td>60.728852</td>\n",
       "      <td>-1.067010</td>\n",
       "    </tr>\n",
       "    <tr>\n",
       "      <th>55</th>\n",
       "      <td>Cockle Point</td>\n",
       "      <td>60.685879</td>\n",
       "      <td>-0.905768</td>\n",
       "    </tr>\n",
       "    <tr>\n",
       "      <th>56</th>\n",
       "      <td>Point of Whack</td>\n",
       "      <td>60.731580</td>\n",
       "      <td>-1.070214</td>\n",
       "    </tr>\n",
       "    <tr>\n",
       "      <th>121</th>\n",
       "      <td>Cross Point</td>\n",
       "      <td>60.719651</td>\n",
       "      <td>-0.955058</td>\n",
       "    </tr>\n",
       "    <tr>\n",
       "      <th>247</th>\n",
       "      <td>Point of Coppister</td>\n",
       "      <td>60.723260</td>\n",
       "      <td>-0.955711</td>\n",
       "    </tr>\n",
       "    <tr>\n",
       "      <th>...</th>\n",
       "      <td>...</td>\n",
       "      <td>...</td>\n",
       "      <td>...</td>\n",
       "    </tr>\n",
       "    <tr>\n",
       "      <th>5716</th>\n",
       "      <td>Back Sand Point</td>\n",
       "      <td>51.297011</td>\n",
       "      <td>1.357279</td>\n",
       "    </tr>\n",
       "    <tr>\n",
       "      <th>6</th>\n",
       "      <td>Hope Point</td>\n",
       "      <td>51.370606</td>\n",
       "      <td>1.452680</td>\n",
       "    </tr>\n",
       "    <tr>\n",
       "      <th>1333</th>\n",
       "      <td>Flagstaff Point</td>\n",
       "      <td>50.749896</td>\n",
       "      <td>0.180620</td>\n",
       "    </tr>\n",
       "    <tr>\n",
       "      <th>1352</th>\n",
       "      <td>Brass Point</td>\n",
       "      <td>50.751658</td>\n",
       "      <td>0.173932</td>\n",
       "    </tr>\n",
       "    <tr>\n",
       "      <th>1364</th>\n",
       "      <td>Old Nore Point</td>\n",
       "      <td>50.781560</td>\n",
       "      <td>0.038440</td>\n",
       "    </tr>\n",
       "  </tbody>\n",
       "</table>\n",
       "<p>2090 rows × 3 columns</p>\n",
       "</div>"
      ],
      "text/plain": [
       "                   NAME1   LATITUDE  LONGITUDE\n",
       "54       Point of Hellia  60.728852  -1.067010\n",
       "55          Cockle Point  60.685879  -0.905768\n",
       "56        Point of Whack  60.731580  -1.070214\n",
       "121          Cross Point  60.719651  -0.955058\n",
       "247   Point of Coppister  60.723260  -0.955711\n",
       "...                  ...        ...        ...\n",
       "5716     Back Sand Point  51.297011   1.357279\n",
       "6             Hope Point  51.370606   1.452680\n",
       "1333     Flagstaff Point  50.749896   0.180620\n",
       "1352         Brass Point  50.751658   0.173932\n",
       "1364      Old Nore Point  50.781560   0.038440\n",
       "\n",
       "[2090 rows x 3 columns]"
      ]
     },
     "execution_count": 61,
     "metadata": {},
     "output_type": "execute_result"
    }
   ],
   "source": [
    "data[[\"NAME1\", \"LATITUDE\", \"LONGITUDE\"]]"
   ]
  },
  {
   "cell_type": "code",
   "execution_count": 65,
   "metadata": {},
   "outputs": [],
   "source": [
    "gdf = gpd.GeoDataFrame(\n",
    "    data,\n",
    "    geometry=gpd.points_from_xy(data.LONGITUDE, data.LATITUDE)\n",
    ")"
   ]
  },
  {
   "cell_type": "code",
   "execution_count": 71,
   "metadata": {},
   "outputs": [],
   "source": [
    "gdf[[\"geometry\", \"NAME1\"]].to_file(\"point_points.geojson\", driver='GeoJSON')"
   ]
  },
  {
   "cell_type": "code",
   "execution_count": null,
   "metadata": {},
   "outputs": [],
   "source": []
  }
 ],
 "metadata": {
  "kernelspec": {
   "display_name": "Python 3",
   "language": "python",
   "name": "python3"
  },
  "language_info": {
   "codemirror_mode": {
    "name": "ipython",
    "version": 3
   },
   "file_extension": ".py",
   "mimetype": "text/x-python",
   "name": "python",
   "nbconvert_exporter": "python",
   "pygments_lexer": "ipython3",
   "version": "3.8.1"
  }
 },
 "nbformat": 4,
 "nbformat_minor": 4
}
